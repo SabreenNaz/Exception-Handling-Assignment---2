{
 "cells": [
  {
   "cell_type": "markdown",
   "id": "847adbb7-db76-4977-981e-bb4bb638709c",
   "metadata": {},
   "source": [
    "Q1. Explain why we have to use the Exception class while creating a Custom Exception.\n",
    "Note: Here Exception class refers to the base class for all the exceptions."
   ]
  },
  {
   "cell_type": "markdown",
   "id": "ceff5ae0-b1f7-4c6f-b4be-1bd43c674d57",
   "metadata": {
    "tags": []
   },
   "source": [
    "#Answer\n",
    "\n",
    "\n",
    "The Exception class is the base class for all built-in exceptions, and it provides the fundamental structure and behavior for creating custom exceptions. When you create a custom exception, you typically inherit from the Exception class to leverage its functionality and ensure that your custom exception is compatible with the general exception-handling mechanisms in Python.\n",
    "\n",
    "Here are a few reasons why it's advisable to use the Exception class as the base class for custom exceptions:\n",
    "\n",
    "1. Inheritance from a Common Base Class:\n",
    "\n",
    "* Inheriting from the Exception class ensures that your custom exception is part of the exception hierarchy . This hierarchy allows for a consistent and organized approach to exception handling.\n",
    "\n",
    "\n",
    "2. Compatibility with General Exception Handling:\n",
    "\n",
    "* exception-handling mechanisms, such as 'try', 'except', and 'finally' blocks, are designed to work with instances of classes that inherit from Exception. Using Exception as the base class ensures that your custom exception can be caught and handled in a generic way alongside built-in exceptions.\n",
    "\n",
    "\n",
    "3. Consistent Behavior:\n",
    "\n",
    "* Inheriting from the Exception class provides your custom exception with consistent behavior, such as the ability to include a custom error message, stack trace information, and compatibility with standard exception-handling constructs.\n",
    "\n",
    "\n",
    "4. Clarity and Convention:\n",
    "\n",
    "Following the convention of inheriting from Exception makes your code more readable and adheres to the established practices in the Python community. It signals to other developers that your class is intended to represent an exception.\n",
    "\n",
    "Here's an example illustrating the use of the Exception class as the base class for a custom exception:\n",
    "\n"
   ]
  },
  {
   "cell_type": "code",
   "execution_count": 1,
   "id": "ab8f5acb-04ea-4e77-857e-b76f42009bfe",
   "metadata": {},
   "outputs": [
    {
     "name": "stdout",
     "output_type": "stream",
     "text": [
      "Caught an exception: This is a custom exception.\n"
     ]
    }
   ],
   "source": [
    "class MyCustomError(Exception):\n",
    "    \"\"\"Custom exception class.\"\"\"\n",
    "\n",
    "    def __init__(self, message=\"A custom error occurred.\"):\n",
    "        self.message = message\n",
    "        super().__init__(self.message)\n",
    "\n",
    "\n",
    "try:\n",
    "    raise MyCustomError(\"This is a custom exception.\")\n",
    "except MyCustomError as e:\n",
    "    print(f\"Caught an exception: {e}\")\n"
   ]
  },
  {
   "cell_type": "markdown",
   "id": "c8bc419f-8298-4c25-ae78-801a07a90a81",
   "metadata": {},
   "source": [
    "In this example, 'MyCustomError' inherits from 'Exception', and it can be caught using the 'except MyCustomError' block in the 'try-except' construct. Using 'Exception' as the base class ensures that your custom exception can be handled using the same exception-handling mechanisms as other built-in exceptions."
   ]
  },
  {
   "cell_type": "markdown",
   "id": "d768ab2e-88b4-43b3-a1dd-6c72edbb4923",
   "metadata": {},
   "source": [
    "                      -------------------------------------------------------------------"
   ]
  },
  {
   "cell_type": "markdown",
   "id": "491180f2-5135-481c-9aa5-c7f7f6e92a5f",
   "metadata": {},
   "source": [
    "Q2. Write a python program to print Python Exception Hierarchy."
   ]
  },
  {
   "cell_type": "code",
   "execution_count": 2,
   "id": "83aa704a-fa4b-4e0c-9a2f-a27f0a2527f2",
   "metadata": {},
   "outputs": [
    {
     "name": "stdout",
     "output_type": "stream",
     "text": [
      "BaseException\n",
      "  Exception\n",
      "    TypeError\n",
      "      FloatOperation\n",
      "      MultipartConversionError\n",
      "    StopAsyncIteration\n",
      "    StopIteration\n",
      "    ImportError\n",
      "      ModuleNotFoundError\n",
      "      ZipImportError\n",
      "    OSError\n",
      "      ConnectionError\n",
      "        BrokenPipeError\n",
      "        ConnectionAbortedError\n",
      "        ConnectionRefusedError\n",
      "        ConnectionResetError\n",
      "          RemoteDisconnected\n",
      "      BlockingIOError\n",
      "      ChildProcessError\n",
      "      FileExistsError\n",
      "      FileNotFoundError\n",
      "      IsADirectoryError\n",
      "      NotADirectoryError\n",
      "      InterruptedError\n",
      "        InterruptedSystemCall\n",
      "      PermissionError\n",
      "      ProcessLookupError\n",
      "      TimeoutError\n",
      "      UnsupportedOperation\n",
      "      itimer_error\n",
      "      herror\n",
      "      gaierror\n",
      "      SSLError\n",
      "        SSLCertVerificationError\n",
      "        SSLZeroReturnError\n",
      "        SSLWantWriteError\n",
      "        SSLWantReadError\n",
      "        SSLSyscallError\n",
      "        SSLEOFError\n",
      "      Error\n",
      "        SameFileError\n",
      "      SpecialFileError\n",
      "      ExecError\n",
      "      ReadError\n",
      "      URLError\n",
      "        HTTPError\n",
      "        ContentTooShortError\n",
      "      BadGzipFile\n",
      "    EOFError\n",
      "      IncompleteReadError\n",
      "    RuntimeError\n",
      "      RecursionError\n",
      "      NotImplementedError\n",
      "        ZMQVersionError\n",
      "        StdinNotImplementedError\n",
      "      _DeadlockError\n",
      "      BrokenBarrierError\n",
      "      BrokenExecutor\n",
      "        BrokenThreadPool\n",
      "      SendfileNotAvailableError\n",
      "      ExtractionError\n",
      "      VariableError\n",
      "    NameError\n",
      "      UnboundLocalError\n",
      "    AttributeError\n",
      "      FrozenInstanceError\n",
      "    SyntaxError\n",
      "      IndentationError\n",
      "        TabError\n",
      "    LookupError\n",
      "      IndexError\n",
      "      KeyError\n",
      "        NoSuchKernel\n",
      "        UnknownBackend\n",
      "      CodecRegistryError\n",
      "    ValueError\n",
      "      UnicodeError\n",
      "        UnicodeEncodeError\n",
      "        UnicodeDecodeError\n",
      "        UnicodeTranslateError\n",
      "      UnsupportedOperation\n",
      "      JSONDecodeError\n",
      "      SSLCertVerificationError\n",
      "      Error\n",
      "      UnsupportedDigestmodError\n",
      "      IllegalMonthError\n",
      "      IllegalWeekdayError\n",
      "      ParserError\n",
      "      ClassNotFound\n",
      "      ClipboardEmpty\n",
      "      MessageDefect\n",
      "        NoBoundaryInMultipartDefect\n",
      "        StartBoundaryNotFoundDefect\n",
      "        CloseBoundaryNotFoundDefect\n",
      "        FirstHeaderLineIsContinuationDefect\n",
      "        MisplacedEnvelopeHeaderDefect\n",
      "        MissingHeaderBodySeparatorDefect\n",
      "        MultipartInvariantViolationDefect\n",
      "        InvalidMultipartContentTransferEncodingDefect\n",
      "        UndecodableBytesDefect\n",
      "        InvalidBase64PaddingDefect\n",
      "        InvalidBase64CharactersDefect\n",
      "        InvalidBase64LengthDefect\n",
      "        HeaderDefect\n",
      "          InvalidHeaderDefect\n",
      "          HeaderMissingRequiredValue\n",
      "          NonPrintableDefect\n",
      "          ObsoleteHeaderDefect\n",
      "          NonASCIILocalPartDefect\n",
      "          InvalidDateDefect\n",
      "      MacroToEdit\n",
      "      InvalidFileException\n",
      "      UnequalIterablesError\n",
      "      InvalidVersion\n",
      "      _InvalidELFFileHeader\n",
      "      InvalidWheelFilename\n",
      "      InvalidSdistFilename\n",
      "      InvalidSpecifier\n",
      "      InvalidMarker\n",
      "      UndefinedComparison\n",
      "      UndefinedEnvironmentName\n",
      "      InvalidRequirement\n",
      "        RequirementParseError\n",
      "      InvalidVersion\n",
      "    AssertionError\n",
      "    ArithmeticError\n",
      "      FloatingPointError\n",
      "      OverflowError\n",
      "      ZeroDivisionError\n",
      "        DivisionByZero\n",
      "        DivisionUndefined\n",
      "      DecimalException\n",
      "        Clamped\n",
      "        Rounded\n",
      "          Underflow\n",
      "          Overflow\n",
      "        Inexact\n",
      "          Underflow\n",
      "          Overflow\n",
      "        Subnormal\n",
      "          Underflow\n",
      "        DivisionByZero\n",
      "        FloatOperation\n",
      "        InvalidOperation\n",
      "          ConversionSyntax\n",
      "          DivisionImpossible\n",
      "          DivisionUndefined\n",
      "          InvalidContext\n",
      "    SystemError\n",
      "      CodecRegistryError\n",
      "    ReferenceError\n",
      "    MemoryError\n",
      "    BufferError\n",
      "    Warning\n",
      "      UserWarning\n",
      "        GetPassWarning\n",
      "        FormatterWarning\n",
      "      EncodingWarning\n",
      "      DeprecationWarning\n",
      "        ProvisionalWarning\n",
      "      PendingDeprecationWarning\n",
      "      SyntaxWarning\n",
      "      RuntimeWarning\n",
      "        ProactorSelectorThreadWarning\n",
      "        UnknownTimezoneWarning\n",
      "        PEP440Warning\n",
      "      FutureWarning\n",
      "        ProvisionalCompleterWarning\n",
      "      ImportWarning\n",
      "      UnicodeWarning\n",
      "      BytesWarning\n",
      "      ResourceWarning\n",
      "      DeprecatedTzFormatWarning\n",
      "      PkgResourcesDeprecationWarning\n",
      "    _OptionError\n",
      "    _Error\n",
      "    error\n",
      "    Verbose\n",
      "    Error\n",
      "    SubprocessError\n",
      "      CalledProcessError\n",
      "      TimeoutExpired\n",
      "    TokenError\n",
      "    StopTokenizing\n",
      "    ClassFoundException\n",
      "    EndOfBlock\n",
      "    TraitError\n",
      "    Error\n",
      "    Error\n",
      "      CancelledError\n",
      "      TimeoutError\n",
      "      InvalidStateError\n",
      "    _GiveupOnSendfile\n",
      "    error\n",
      "    Incomplete\n",
      "    TimeoutError\n",
      "    InvalidStateError\n",
      "    LimitOverrunError\n",
      "    QueueEmpty\n",
      "    QueueFull\n",
      "    Empty\n",
      "    Full\n",
      "    ArgumentError\n",
      "    ZMQBaseError\n",
      "      ZMQError\n",
      "        ContextTerminated\n",
      "        Again\n",
      "        InterruptedSystemCall\n",
      "      ZMQBindError\n",
      "      NotDone\n",
      "    PickleError\n",
      "      PicklingError\n",
      "      UnpicklingError\n",
      "    _Stop\n",
      "    ArgumentError\n",
      "    ArgumentTypeError\n",
      "    ConfigError\n",
      "      ConfigLoaderError\n",
      "        ArgumentError\n",
      "      ConfigFileNotFound\n",
      "    ConfigurableError\n",
      "      MultipleInstanceError\n",
      "    ApplicationError\n",
      "    error\n",
      "    TimeoutError\n",
      "    error\n",
      "    ReturnValueIgnoredError\n",
      "    KeyReuseError\n",
      "    UnknownKeyError\n",
      "    LeakedCallbackError\n",
      "    BadYieldError\n",
      "    ReturnValueIgnoredError\n",
      "    Return\n",
      "    InvalidPortNumber\n",
      "    error\n",
      "    LZMAError\n",
      "    RegistryError\n",
      "    _GiveupOnFastCopy\n",
      "    Error\n",
      "      NoSectionError\n",
      "      DuplicateSectionError\n",
      "      DuplicateOptionError\n",
      "      NoOptionError\n",
      "      InterpolationError\n",
      "        InterpolationMissingOptionError\n",
      "        InterpolationSyntaxError\n",
      "        InterpolationDepthError\n",
      "      ParsingError\n",
      "        MissingSectionHeaderError\n",
      "    NoIPAddresses\n",
      "    BadZipFile\n",
      "    LargeZipFile\n",
      "    BadEntryPoint\n",
      "    NoSuchEntryPoint\n",
      "    DuplicateKernelError\n",
      "    ErrorDuringImport\n",
      "    NotOneValueFound\n",
      "    CannotEval\n",
      "    OptionError\n",
      "    BdbQuit\n",
      "    Restart\n",
      "    ExceptionPexpect\n",
      "      EOF\n",
      "      TIMEOUT\n",
      "    PtyProcessError\n",
      "    FindCmdError\n",
      "    HomeDirError\n",
      "    ProfileDirError\n",
      "    IPythonCoreError\n",
      "      TryNext\n",
      "      UsageError\n",
      "      StdinNotImplementedError\n",
      "    InputRejected\n",
      "    GetoptError\n",
      "    ErrorToken\n",
      "    PrefilterError\n",
      "    AliasError\n",
      "      InvalidAliasError\n",
      "    Error\n",
      "      InterfaceError\n",
      "      DatabaseError\n",
      "        InternalError\n",
      "        OperationalError\n",
      "        ProgrammingError\n",
      "        IntegrityError\n",
      "        DataError\n",
      "        NotSupportedError\n",
      "    Warning\n",
      "    SpaceInInput\n",
      "    DOMException\n",
      "      IndexSizeErr\n",
      "      DomstringSizeErr\n",
      "      HierarchyRequestErr\n",
      "      WrongDocumentErr\n",
      "      InvalidCharacterErr\n",
      "      NoDataAllowedErr\n",
      "      NoModificationAllowedErr\n",
      "      NotFoundErr\n",
      "      NotSupportedErr\n",
      "      InuseAttributeErr\n",
      "      InvalidStateErr\n",
      "      SyntaxErr\n",
      "      InvalidModificationErr\n",
      "      NamespaceErr\n",
      "      InvalidAccessErr\n",
      "      ValidationErr\n",
      "    ValidationError\n",
      "    EditReadOnlyBuffer\n",
      "    _Retry\n",
      "    InvalidLayoutError\n",
      "    HeightIsUnknownError\n",
      "    ParserSyntaxError\n",
      "    InternalParseError\n",
      "    _PositionUpdatingFinished\n",
      "    SimpleGetItemNotFound\n",
      "    UncaughtAttributeError\n",
      "    HasNoContext\n",
      "    ParamIssue\n",
      "    _JediError\n",
      "      InternalError\n",
      "      WrongVersion\n",
      "      RefactoringError\n",
      "    OnErrorLeaf\n",
      "    InvalidPythonEnvironment\n",
      "    MessageError\n",
      "      MessageParseError\n",
      "        HeaderParseError\n",
      "        BoundaryError\n",
      "      MultipartConversionError\n",
      "      CharsetError\n",
      "    Error\n",
      "    HTTPException\n",
      "      NotConnected\n",
      "      InvalidURL\n",
      "      UnknownProtocol\n",
      "      UnknownTransferEncoding\n",
      "      UnimplementedFileMode\n",
      "      IncompleteRead\n",
      "      ImproperConnectionState\n",
      "        CannotSendRequest\n",
      "        CannotSendHeader\n",
      "        ResponseNotReady\n",
      "      BadStatusLine\n",
      "        RemoteDisconnected\n",
      "      LineTooLong\n",
      "    InteractivelyDefined\n",
      "    KillEmbedded\n",
      "    Error\n",
      "      NoSuchProcess\n",
      "        ZombieProcess\n",
      "      AccessDenied\n",
      "      TimeoutExpired\n",
      "    _Ipv6UnsupportedError\n",
      "    QueueEmpty\n",
      "    QueueFull\n",
      "    DebuggerInitializationError\n",
      "    ExpatError\n",
      "    Error\n",
      "      ProtocolError\n",
      "      ResponseError\n",
      "      Fault\n",
      "    ParseBaseException\n",
      "      ParseException\n",
      "      ParseFatalException\n",
      "        ParseSyntaxException\n",
      "    RecursiveGrammarException\n",
      "    ResolutionError\n",
      "      VersionConflict\n",
      "        ContextualVersionConflict\n",
      "      DistributionNotFound\n",
      "      UnknownExtra\n",
      "    _Error\n",
      "    UnableToResolveVariableException\n",
      "    InvalidTypeInArgsException\n",
      "    MyCustomError\n",
      "  GeneratorExit\n",
      "  SystemExit\n",
      "  KeyboardInterrupt\n",
      "  CancelledError\n",
      "  AbortThread\n"
     ]
    }
   ],
   "source": [
    "#Answer\n",
    "\n",
    "def print_exception_hierarchy(exception_class, indentation=0):\n",
    "    \n",
    "    \"\"\"Print the exception hierarchy.\"\"\"\n",
    "    \n",
    "    print(' ' * indentation + str(exception_class.__name__))\n",
    "    for subclass in exception_class.__subclasses__():\n",
    "        print_exception_hierarchy(subclass, indentation + 2)\n",
    "\n",
    "# Print the exception hierarchy starting from the base class\n",
    "print_exception_hierarchy(BaseException)\n"
   ]
  },
  {
   "cell_type": "markdown",
   "id": "61e7fe27-1fe2-442b-9990-ddf2b4958328",
   "metadata": {},
   "source": [
    "                      -------------------------------------------------------------------"
   ]
  },
  {
   "cell_type": "markdown",
   "id": "ee58e8fc-6392-4da0-a0c9-2443f93e661c",
   "metadata": {},
   "source": [
    "Q3. What errors are defined in the ArithmeticError class? Explain any two with an example."
   ]
  },
  {
   "cell_type": "markdown",
   "id": "ce033272-022b-4e52-b04c-01e21b5abd02",
   "metadata": {},
   "source": [
    "#Answer\n",
    "\n",
    "The 'ArithmeticError' class is a base class for exceptions that arise during arithmetic operations. It itself has several subclasses, each representing specific arithmetic errors. Two common subclasses of 'ArithmeticError' are 'ZeroDivisionError' and 'OverflowError'\n",
    "\n",
    "1. ZeroDivisionError:\n",
    "This exception is raised when an attempt is made to divide a number by zero."
   ]
  },
  {
   "cell_type": "code",
   "execution_count": 8,
   "id": "4c9ccbc7-0efa-4a87-be54-4403cfa01943",
   "metadata": {},
   "outputs": [
    {
     "name": "stdout",
     "output_type": "stream",
     "text": [
      "Result 1: 5.0\n",
      "sorry division of number by a zero will give you a error: division by zero\n",
      "Result 2: None\n"
     ]
    }
   ],
   "source": [
    "def divide_numbers(a, b):\n",
    "    try:\n",
    "        result = a / b\n",
    "        return result\n",
    "    except ZeroDivisionError as e:\n",
    "        print(f\"sorry division of number by a zero will give you a error: {e}\")\n",
    "        return None\n",
    "\n",
    "# Example 1: Division by a non-zero number\n",
    "result1 = divide_numbers(10, 2)\n",
    "print(\"Result 1:\", result1)\n",
    "\n",
    "# Example 2: Division by zero (raises ZeroDivisionError)\n",
    "result2 = divide_numbers(10, 0)\n",
    "print(\"Result 2:\", result2)\n"
   ]
  },
  {
   "cell_type": "markdown",
   "id": "f0056325-d948-4bec-a734-fa1f24e1fcf5",
   "metadata": {},
   "source": [
    "In Example 1, the function is called with a non-zero divisor, and the division operation is successful. In Example 2, the function is called with a divisor of zero, leading to a 'ZeroDivisionError'. The exception is caught, and an error message is printed."
   ]
  },
  {
   "cell_type": "markdown",
   "id": "c338930f-7d4a-4dd9-963e-60a225c69432",
   "metadata": {},
   "source": [
    "2. FloatingPointError:\n",
    "    \n",
    "This exception is raised when a floating-point operation fails. This can happen, for example, when you try to perform an illegal floating-point operation, such as taking the square root of a negative number."
   ]
  },
  {
   "cell_type": "code",
   "execution_count": 9,
   "id": "d88d021f-b5e2-4162-8ce3-fcff26fcf23f",
   "metadata": {},
   "outputs": [
    {
     "name": "stdout",
     "output_type": "stream",
     "text": [
      "Result 1: 5.0\n",
      "Error: math domain error\n",
      "Result 2: None\n"
     ]
    }
   ],
   "source": [
    "import math\n",
    "\n",
    "def calculate_square_root(x):\n",
    "    try:\n",
    "        result = math.sqrt(x)\n",
    "        return result\n",
    "    except ValueError as e:\n",
    "        print(f\"Error: {e}\")\n",
    "        return None\n",
    "\n",
    "# Example 1: Square root of a positive number\n",
    "result1 = calculate_square_root(25)\n",
    "print(\"Result 1:\", result1)\n",
    "\n",
    "# Example 2: Square root of a negative number (raises ValueError)\n",
    "result2 = calculate_square_root(-4)\n",
    "print(\"Result 2:\", result2)\n"
   ]
  },
  {
   "cell_type": "markdown",
   "id": "9d64c6f2-853e-4fe9-ae94-c74ac06cef8e",
   "metadata": {},
   "source": [
    "In Example 1, the function is called with a positive number, and the square root is successfully calculated. In Example 2, the function is called with a negative number, leading to a ValueError since the square root of a negative number is not defined"
   ]
  },
  {
   "cell_type": "markdown",
   "id": "ab68aa9b-06e7-48ba-9454-ab662e3c7fc2",
   "metadata": {},
   "source": [
    "                      -------------------------------------------------------------------"
   ]
  },
  {
   "cell_type": "markdown",
   "id": "603d8454-0f91-4c58-9047-9330eaa2c9b0",
   "metadata": {},
   "source": [
    "Q4. Why LookupError class is used? Explain with an example KeyError and IndexError."
   ]
  },
  {
   "cell_type": "markdown",
   "id": "c0aee58c-6416-49e3-b3f0-ce8fb0f30c0c",
   "metadata": {},
   "source": [
    "#Answer\n",
    "\n",
    "\n",
    "The 'LookupError' class is a base class for exceptions that occur when a key or index is not found. It serves as a common ancestor for exceptions that involve looking up a value in a collection, such as dictionaries or lists.\n",
    "\n",
    "Two common subclasses of LookupError are 'KeyError' and 'IndexError'. Let's explore these exceptions with examples:\n",
    "\n",
    "1. KeyError:\n",
    "This exception is raised when a dictionary key is not found."
   ]
  },
  {
   "cell_type": "code",
   "execution_count": 29,
   "id": "55636be2-8af0-44fb-8312-50be78be9c47",
   "metadata": {},
   "outputs": [
    {
     "name": "stdout",
     "output_type": "stream",
     "text": [
      "Result 1: 42\n",
      "Error: 'c'\n",
      "Result 2: None\n"
     ]
    }
   ],
   "source": [
    "def access_dictionary(dictionary, key):\n",
    "    try:\n",
    "        value = dictionary[key]\n",
    "        return value\n",
    "    except KeyError as e:\n",
    "        print(f\"Error: {e}\")\n",
    "        \n",
    "        \n",
    "\n",
    "# Example 1: Accessing an existing key\n",
    "my_dict = {'a': 42, 'b': 24}\n",
    "result1 = access_dictionary(my_dict, 'a')\n",
    "print(\"Result 1:\", result1)\n",
    "\n",
    "# Example 2: Accessing a non-existing key (raises KeyError)\n",
    "result2 = access_dictionary(my_dict, 'c')\n",
    "print(\"Result 2:\", result2)\n",
    "\n"
   ]
  },
  {
   "cell_type": "markdown",
   "id": "379ec4f0-3305-4cf5-a7b7-f9097352dd77",
   "metadata": {},
   "source": [
    "In Example 1, the function is called with an existing key, and the value associated with that key is successfully retrieved. In Example 2, the function is called with a non-existing key, leading to a 'KeyError'."
   ]
  },
  {
   "cell_type": "markdown",
   "id": "b46b111b-3475-4a2c-8542-bb1befa66266",
   "metadata": {},
   "source": [
    "2. IndexError:\n",
    "    \n",
    "    \n",
    "This exception is raised when a sequence subscript (such as a list or a string index) is out of range."
   ]
  },
  {
   "cell_type": "code",
   "execution_count": 31,
   "id": "505285c1-5f4e-4865-b1f3-855be3ef4f78",
   "metadata": {},
   "outputs": [
    {
     "name": "stdout",
     "output_type": "stream",
     "text": [
      "Result 1: 20\n",
      "Error: list index out of range\n",
      "Result 2: None\n"
     ]
    }
   ],
   "source": [
    "def access_list(lst, index):\n",
    "    try:\n",
    "        value = lst[index]\n",
    "        return value\n",
    "    except IndexError as e:\n",
    "        print(f\"Error: {e}\")\n",
    "        return None\n",
    "\n",
    "# Example 1: Accessing an existing index\n",
    "my_list = [10, 20, 30]\n",
    "result1 = access_list(my_list, 1)\n",
    "print(\"Result 1:\", result1)\n",
    "\n",
    "# Example 2: Accessing an out-of-range index (raises IndexError)\n",
    "result2 = access_list(my_list, 5)\n",
    "print(\"Result 2:\", result2)\n"
   ]
  },
  {
   "cell_type": "markdown",
   "id": "576722dc-1cd3-40f9-8cdb-1bb5915de64e",
   "metadata": {},
   "source": [
    "In Example 1, the function is called with an existing index, and the value at that index is successfully retrieved. In Example 2, the function is called with an out-of-range index, leading to an IndexError."
   ]
  },
  {
   "cell_type": "markdown",
   "id": "cefbaf43-6ff9-49ad-b189-2a56c6f188e8",
   "metadata": {},
   "source": [
    "                      -------------------------------------------------------------------"
   ]
  },
  {
   "cell_type": "markdown",
   "id": "d83dbde1-120b-428e-9820-73b17987c381",
   "metadata": {},
   "source": [
    "Q5. Explain ImportError. What is ModuleNotFoundError?"
   ]
  },
  {
   "cell_type": "markdown",
   "id": "96ac0689-1beb-4806-82d1-435a2fd52dad",
   "metadata": {},
   "source": [
    "#Answer\n",
    "\n",
    "ImportError is a base class for exceptions raised when an import statement fails to find the module, class, or attribute being imported. This can happen for various reasons, such as a misspelled module name, an improperly installed module, or issues with the module's code.\n",
    "\n",
    "ModuleNotFoundError is a specific subclass of ImportError that is raised when Python cannot locate the module specified in the import statement.\n",
    "\n",
    "\n",
    "1. ImportError:\n",
    "    \n",
    "ImportError is a more general exception that encompasses various import-related errors. It can be raised in different situations, including when a module is not found, when an attribute within a module is not found, or when there are issues with the module's code during import."
   ]
  },
  {
   "cell_type": "code",
   "execution_count": 34,
   "id": "3a27b491-9509-45fa-85d0-28f0515717e2",
   "metadata": {},
   "outputs": [
    {
     "name": "stdout",
     "output_type": "stream",
     "text": [
      "ImportError: No module named 'sabreen'\n"
     ]
    }
   ],
   "source": [
    "try:\n",
    "    # Attempting to import a module that does not exist\n",
    "    import sabreen\n",
    "except ImportError as e:\n",
    "    print(f\"ImportError: {e}\")\n"
   ]
  },
  {
   "cell_type": "markdown",
   "id": "31da5e23-f8d5-4212-b2f2-25f03e016d11",
   "metadata": {},
   "source": [
    "2. ModuleNotFoundError:\n",
    "\n",
    "ModuleNotFoundError is a more specific exception that is raised when the Python interpreter cannot find the specified module during an import operation.\n",
    "\n",
    "Example:"
   ]
  },
  {
   "cell_type": "code",
   "execution_count": 33,
   "id": "a1f5eb03-3eae-4ccf-a4d7-fd3d3d0cdaae",
   "metadata": {},
   "outputs": [
    {
     "name": "stdout",
     "output_type": "stream",
     "text": [
      "ModuleNotFoundError: No module named 'non_existent_module'\n"
     ]
    }
   ],
   "source": [
    "try:\n",
    "    # Attempting to import a module that does not exist\n",
    "    import non_existent_module\n",
    "except ModuleNotFoundError as e:\n",
    "    print(f\"ModuleNotFoundError: {e}\")\n"
   ]
  },
  {
   "cell_type": "markdown",
   "id": "4bd56842-96dd-463e-9a53-abe5f7acc2c6",
   "metadata": {},
   "source": [
    "                       -------------------------------------------------------------------"
   ]
  },
  {
   "cell_type": "markdown",
   "id": "e5cfcd8a-e250-42a7-8424-c3a5f8fe7a69",
   "metadata": {},
   "source": [
    "Q6. List down some best practices for exception handling in python."
   ]
  },
  {
   "cell_type": "markdown",
   "id": "a244f3ea-69fe-4470-b716-fd63c2fa7a45",
   "metadata": {},
   "source": [
    "#Answer\n",
    "\n",
    "\n",
    "Exception handling is an essential aspect of writing robust and maintainable code. Here are some best practices for effective exception handling:___\n",
    "\n",
    "1. Specific Exception Handling:\n",
    "\n",
    "Be specific about the exceptions you catch. Avoid using a bare except clause, which catches all exceptions, as it can make debugging more challenging.\n",
    "\n",
    "\n",
    "2. Use Multiple Except Blocks:\n",
    "\n",
    "Use multiple except blocks to handle different types of exceptions individually. This allows you to tailor your error-handling strategies for each specific situation.\n",
    "\n",
    "\n",
    "3. Avoid Silencing Errors:\n",
    "\n",
    "Avoid using empty except blocks or catching exceptions without taking any action. This can lead to silent failures, making it difficult to diagnose issues.\n",
    "\n",
    "4. Logging Exceptions:\n",
    "\n",
    "Use the logging module to log exceptions rather than printing them. Logging provides a more flexible and centralized way to manage error messages.\n",
    "\n",
    "5. Raising Exceptions:\n",
    "\n",
    "Raise exceptions when necessary to indicate errors or exceptional conditions in your code. Provide informative error messages to aid in debugging.\n",
    "\n",
    "\n",
    "6. Use finally for Cleanup:\n",
    "\n",
    "Use the finally block to ensure that cleanup code (e.g., closing files or releasing resources) is executed, whether an exception occurs or not\n",
    "\n",
    "\n",
    "7. Document Exception Handling:\n",
    "\n",
    "Document the exceptions that functions or methods may raise. This helps other developers understand the expected behavior and handle exceptions appropriately."
   ]
  },
  {
   "cell_type": "markdown",
   "id": "c195c9bd-aba6-49ad-a195-6b541eb54fb2",
   "metadata": {},
   "source": [
    "                        -------------------------------------------------------------------"
   ]
  }
 ],
 "metadata": {
  "kernelspec": {
   "display_name": "Python 3 (ipykernel)",
   "language": "python",
   "name": "python3"
  },
  "language_info": {
   "codemirror_mode": {
    "name": "ipython",
    "version": 3
   },
   "file_extension": ".py",
   "mimetype": "text/x-python",
   "name": "python",
   "nbconvert_exporter": "python",
   "pygments_lexer": "ipython3",
   "version": "3.10.8"
  }
 },
 "nbformat": 4,
 "nbformat_minor": 5
}
